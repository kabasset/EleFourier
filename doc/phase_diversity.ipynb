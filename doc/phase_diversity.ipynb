{
 "cells": [
  {
   "cell_type": "markdown",
   "metadata": {},
   "source": [
    "# Notes on Phase Diversity"
   ]
  },
  {
   "cell_type": "markdown",
   "metadata": {},
   "source": [
    "## Image model\n",
    "\n",
    "The image amplitude at defocus $0$, $i_0$, is the convolution of the object amplitude $o$ and the broadband PSF at defocus $0$, $h_0$ (noise is neglected):\n",
    "\n",
    "$$i_0(x, y, \\lambda) = o(x, y, \\lambda) * h_0(x, y, \\lambda)$$\n",
    "\n",
    "In the case of Euclid, $o$ is a star modeled as a point source (unknown position $(x_s, y_s)$) with known spectrum $S$:\n",
    "\n",
    "$$\n",
    "\\begin{align*}\n",
    "o(x_s, y_s, \\lambda) &= S(\\lambda) \\\\\n",
    "o(x, y, \\lambda) &= 0 \\text{ for } (x, y) \\neq (x_s, y_s)\n",
    "\\end{align*}\n",
    "$$"
   ]
  },
  {
   "cell_type": "markdown",
   "metadata": {},
   "source": [
    "## PSF model\n",
    "\n",
    "The broadband PSF is the integral of the monochromatic PSFs over $\\lambda$:\n",
    "\n",
    "$$h_0 = \\int_\\lambda h_{\\lambda,0} \\, S(\\lambda) \\, \\text{d}\\lambda$$\n",
    "\n",
    "Monochromatic PSFs are computed from the Fourier transform of the complex pupil function:\n",
    "\n",
    "$$h_{\\lambda,0}(x, y) = |\\mathcal{F}^{-1}(P(u, v) \\, \\exp(-j2\\pi/\\lambda\\cdot\\Phi_0(u, v)))|^2$$\n",
    "\n",
    "where:\n",
    "* $P$ is the $1024 \\times 1024$ pupil mask, values of which are reals in $(0, 1)$ for antialiasing at edges, but are mostly 0's and 1's;\n",
    "* $\\Phi_0$ is the WFE at defocus 0."
   ]
  },
  {
   "cell_type": "markdown",
   "metadata": {},
   "source": [
    "## WFE model\n",
    "\n",
    "The WFE is decomposed into Zernike polynomials:\n",
    "\n",
    "$$\\Phi_0 = \\sum_i \\alpha_i Z_i$$\n",
    "\n",
    "where the Zernike polynomial $Z_i$ is precomputed as a $1024 \\times 1024$ matrix, and the Zernike coefficients $\\alpha_i$ are the unknowns of interest."
   ]
  },
  {
   "cell_type": "markdown",
   "metadata": {},
   "source": [
    "## MTF model\n",
    "\n",
    "The monochromatic MTF is useful to introduce non-optical PSFs, which are computed faster as multiplications in MTF space than as convolutions in PSF space.\n",
    "The MTF $H$ is simply the complex Fourier transform of the PSF:\n",
    "\n",
    "$$H_{\\lambda,0} = \\mathcal{F}(h_{\\lambda,0})$$"
   ]
  },
  {
   "cell_type": "markdown",
   "metadata": {},
   "source": [
    "## Phase diversity\n",
    "\n",
    "Same equations hold at defocus $\\delta$:\n",
    "\n",
    "$$\n",
    "\\begin{align*}\n",
    "h_{\\lambda,\\delta}(x, y) &= |\\mathcal{F}^{-1}(P(u, v) \\, \\exp(-j2\\pi/\\lambda\\cdot\\Phi_\\delta(u, v)))|^2 \\\\\n",
    "\\Phi_\\delta &= \\sum_i \\beta_i Z_i\n",
    "\\end{align*}\n",
    "$$\n",
    "\n",
    "The defocus mechanism is known well-enough to assume that the $\\beta_i$'s equal the $\\alpha_i$'s except for $i = 4$ and $i = 11$."
   ]
  },
  {
   "cell_type": "markdown",
   "metadata": {},
   "source": [
    "## Error function\n",
    "\n",
    "An error function $E$ is introduced, to be minimized:\n",
    "\n",
    "$$\n",
    "E = \\sum_{(u,v)}\\frac{\\|i_0(u,v) - (a_0 \\, h_0(u,v) + b_0)\\|^2}{\\sigma_0^2(u,v)}\n",
    "+ \\frac{\\|i_\\delta(u,v) - (a_\\delta \\, h_\\delta(u,v) + b_\\delta)\\|^2}{\\sigma_\\delta^2(u,v)}\n",
    "$$\n",
    "\n",
    "with $a_0, b_0, a_\\delta, b_\\delta$ some unknown normalization coefficients.\n",
    "\n",
    "The error function can be extended to more defocus values."
   ]
  },
  {
   "cell_type": "markdown",
   "metadata": {},
   "source": [
    "## Unknowns\n",
    "\n",
    "From the above equations, the unknowns are:\n",
    "\n",
    "- The position of the stars: $(x_s, y_s)$ for $s = 1..1000$;\n",
    "- The Zernike coefficients: $\\alpha_i$ for $i = 1..40$ as well as $\\beta_4$ and $\\beta_{11}$;\n",
    "- The PSF normalization coefficients: $a_0, b_0, a_\\delta, b_\\delta$."
   ]
  },
  {
   "cell_type": "markdown",
   "metadata": {},
   "source": [
    "## Computation\n",
    "\n",
    "Given:\n",
    "* $L$ the number of wavelengths ($L \\approx 40$);\n",
    "* $M$ the number of Zernike polynomials ($M = 40$);\n",
    "* $N$ the number of input images (star thumbnails, $N \\in [100, 1000]$);\n",
    "\n",
    "the error is computed $O(L \\cdot M \\cdot N)$ times per minimization iteration in order to build the Jacobian matrix (one-step derivatives).\n",
    "\n",
    "The broadband PSF processing budget (including some non-aforementioned steps) is as follows:\n",
    "* Inverse DFT ($1024^2$ real to complex without Hermitian symmetry) to estimate the $h_\\lambda$'s from $P$ for each $\\lambda$ (15%);\n",
    "* Pixel-wise exponential ($1024^2$) for the same step (20%);\n",
    "* Direct DFT ($1024^2$ real to complex with Hermitian symmetry) to estimate the $H_\\lambda$'s from the $h_\\lambda$'s (15%);\n",
    "* Multiplications ($1024^2$) in Fourier space to introduce non-optical monochromatic MTFs (5%);\n",
    "* Wavelength densification = interpolation ($512^2 \\times 200$ points) along $\\lambda$ (25%);\n",
    "* Integration of monochromatic MTFs ($512^2 \\times 200$ to $512^2$) (unit time not available, included in next step);\n",
    "* Inverse DFT ($512^2$ complex with Hermitian symmetry to real) to get the broadband PSF from the broadband MTF (15%)."
   ]
  },
  {
   "cell_type": "markdown",
   "metadata": {},
   "source": [
    "## Optimization opportunities\n",
    "\n",
    "* Reduce the size of the output PSF (512 as of today, but could be smaller, see issue #1);\n",
    "* Compute the exponential only where $P > 0$;\n",
    "* Use pyFFTW efficiently;\n",
    "* Compute DFT using FFTW single precision routines (see [FFTW\n",
    "  documentation](https://www.fftw.org/fftw3_doc/Precision.html))."
   ]
  }
 ],
 "metadata": {
  "language_info": {
   "name": "python"
  },
  "orig_nbformat": 4
 },
 "nbformat": 4,
 "nbformat_minor": 2
}
