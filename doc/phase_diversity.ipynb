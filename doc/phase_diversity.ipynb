{
 "cells": [
  {
   "cell_type": "markdown",
   "metadata": {},
   "source": [
    "# Notes on Phase Diversity"
   ]
  },
  {
   "cell_type": "markdown",
   "metadata": {},
   "source": [
    "Reference: https://www.sciencedirect.com/science/article/pii/S0143816620304553"
   ]
  },
  {
   "cell_type": "markdown",
   "metadata": {},
   "source": [
    "## Image model\n",
    "\n",
    "The image amplitude at defocus $0$, $i_0$, is the convolution of the object amplitude $o$ and the broadband PSF at defocus $0$, $h_0$ (noise is neglected):\n",
    "\n",
    "$$i_0(x, y, \\lambda) = o(x, y, \\lambda) * h_0(x, y, \\lambda)$$\n",
    "\n",
    "In the case of Euclid, $o$ is a star modeled as a point source (unknown position $(x_s, y_s)$) with spectrum $S$:\n",
    "\n",
    "$$\n",
    "\\begin{align}\n",
    "o(x_s, y_s, \\lambda) &= S(\\lambda) \\\\\n",
    "o(x, y, \\lambda) &= 0 \\text{ for } (x, y) \\neq (x_s, y_s)\n",
    "\\end{align}\n",
    "$$"
   ]
  },
  {
   "cell_type": "markdown",
   "metadata": {},
   "source": [
    "## PSF model\n",
    "\n",
    "The broadband PSF is the integral of the monochromatic PSFs over $\\lambda$:\n",
    "\n",
    "$$h_0 = \\int_\\lambda h_{\\lambda,0} \\, S(\\lambda) d\\lambda$$\n",
    "\n",
    "Monochromatic PSFs are computed as the Fourier transform of the complex pupil function:\n",
    "\n",
    "$$h_{\\lambda,0}(x, y) = |\\mathcal{F}^{-1}(P(u, v) \\, \\exp(-j2\\pi/\\lambda\\cdot\\Phi_0(u, v)))|^2$$\n",
    "\n",
    "where:\n",
    "* $P$ is the $1024 \\times 1024$ pupil mask, values of which are reals in $(0, 1)$ for antialiasing at edges, but are mostly 0's and 1's;\n",
    "* $\\Phi_0$ is the WFE at defocus 0."
   ]
  },
  {
   "cell_type": "markdown",
   "metadata": {},
   "source": [
    "## WFE model\n",
    "\n",
    "The WFE is decomposed into Zernike polynomials:\n",
    "\n",
    "$$\\Phi_0 = \\sum_i \\alpha_i Z_i$$\n",
    "\n",
    "where the Zernike polynomial $Z_i$ is precomputed as a $1024 \\times 1024$ matrix, and the Zernike coefficients $\\alpha_i$ are the unknowns."
   ]
  },
  {
   "cell_type": "markdown",
   "metadata": {},
   "source": [
    "## Phase diversity\n",
    "\n",
    "Same equations hold at defocus $\\delta$:\n",
    "\n",
    "$$\n",
    "\\begin{align}\n",
    "h_{\\lambda,\\delta}(x, y) &= |\\mathcal{F}^{-1}(P(u, v) \\, \\exp(-j2\\pi/\\lambda\\cdot\\Phi_\\delta(u, v)))|^2 \\\\\n",
    "\\Phi_\\delta &= \\sum_i \\beta_i Z_i\n",
    "\\end{align}\n",
    "$$\n",
    "\n",
    "The defocus mechanism is known well-enough to assume that the $\\beta_i$'s equal the $\\alpha_i$'s except for $i = 4$ and $i = 11$."
   ]
  },
  {
   "cell_type": "markdown",
   "metadata": {},
   "source": [
    "## Error function\n",
    "\n",
    "An error function $E$ is introduced in Fourier space, to be minimized:\n",
    "\n",
    "$$\n",
    "E = \\sum_{(u,v)}\\frac{\\|I_0(u,v) - (a_0 H_0(u,v) + b_0)\\|^2}{\\sigma_0^2(u,v)}\n",
    "+ \\frac{\\|I_\\delta(u,v) - (a_\\delta H_\\delta(u,v) + b_\\delta)\\|^2}{\\sigma_\\delta^2(u,v)}\n",
    "$$\n",
    "\n",
    "where uppercase letters denote the Fourier transforms of their lowercase counterparts.\n",
    "\n",
    "The error function can be extended to more defocus values."
   ]
  },
  {
   "cell_type": "markdown",
   "metadata": {},
   "source": [
    "## Unknowns\n",
    "\n",
    "From the above equations, the unknowns are:\n",
    "\n",
    "- The position of the stars: $(x_s, y_s)$ for $s = 1..1000$;\n",
    "- The Zernike coefficients: $\\alpha_i$ for $i = 1..40$ as well as $\\beta_4$ and $\\beta_{11}$;\n",
    "- The PSF normalization coefficients: $a_0, b_0, a_\\delta, b_\\delta$."
   ]
  },
  {
   "cell_type": "markdown",
   "metadata": {},
   "source": [
    "## Computation\n",
    "\n",
    "Given:\n",
    "* $L$ the number of wavelengths ($L \\in [?]$);\n",
    "* $M$ the number of Zernike polynomials ($L \\in [20, 40]$);\n",
    "* $N$ the number of input images (star thumbnails, $N \\in [100, 1000]$);\n",
    "\n",
    "the error is computed $L \\times (M + 1) \\times N$ times in order to build the Jacobian matrix (one-step derivatives).\n",
    "\n",
    "In terms of Fourier transform, this means:\n",
    "* One direct transform to estimate $h$ from $P$ and the $a_i$'s;\n",
    "* One direct transform to estimate $H$ from $h$."
   ]
  }
 ],
 "metadata": {
  "language_info": {
   "name": "python"
  },
  "orig_nbformat": 4
 },
 "nbformat": 4,
 "nbformat_minor": 2
}
