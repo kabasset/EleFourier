{
 "cells": [
  {
   "cell_type": "markdown",
   "metadata": {},
   "source": [
    "# Notes on Phase Diversity"
   ]
  },
  {
   "cell_type": "markdown",
   "metadata": {},
   "source": [
    "Reference: https://www.sciencedirect.com/science/article/pii/S0143816620304553"
   ]
  },
  {
   "cell_type": "markdown",
   "metadata": {},
   "source": [
    "## Image model\n",
    "\n",
    "The complex image amplitude at defocus $0$, $i_0$, is the convolution of the complex object amplitude $o$ (that of one star) and the complex transfer function at defocus $0$, $h_0$ (noise is neglected):\n",
    "\n",
    "$$i_0(r, \\lambda) = o(r, \\lambda) * h_0(r, \\lambda)$$\n",
    "\n",
    "Because the PSF is the modulus of $h$, $h$ is sometimes named complex PSF."
   ]
  },
  {
   "cell_type": "markdown",
   "metadata": {},
   "source": [
    "## PSF model\n",
    "\n",
    "The complex PSF is computed as the Fourier transform of the complex pupil function:\n",
    "\n",
    "$$h_0(r, \\lambda) = \\mathcal{F}(P(u, \\lambda) \\, e^{j\\Phi_0(u, \\lambda)})$$\n",
    "\n",
    "where:\n",
    "* $P$ is the pupil mask, values of which are reals in $(0, 1)$ for antialiasing at edges, but are mostly 0's and 1's;\n",
    "* $\\Phi_0$ is the phase aberration at defocus 0."
   ]
  },
  {
   "cell_type": "markdown",
   "metadata": {},
   "source": [
    "## Phase model\n",
    "\n",
    "The phase is decomposed into Zernike polynomials:\n",
    "\n",
    "$$\\Phi_0 = \\sum_i a_i Z_i$$\n",
    "\n",
    "where the Zernike polynomial $Z_i$ is precomputed as a $1024 \\times 1024$ matrix, and the Zernike coefficients $a_i$ are the unknowns."
   ]
  },
  {
   "cell_type": "markdown",
   "metadata": {},
   "source": [
    "## Phase difference\n",
    "\n",
    "Same equations hold at defocus $\\delta$, which can be written, by introducing the *known* phase diversity aberration $\\Phi_\\delta$:\n",
    "\n",
    "$$h_\\delta(r, \\lambda) = \\mathcal{F}(P(u, \\lambda) \\, e^{j\\Phi_0(u, \\lambda) + j\\Phi_\\delta(u, \\lambda)})$$"
   ]
  },
  {
   "cell_type": "markdown",
   "metadata": {},
   "source": [
    "## Error function\n",
    "\n",
    "An error function $E$ is introduced in Fourier space, to be minimized:\n",
    "\n",
    "$$E = \\|I_0 - O H_0\\|^2 + \\|I_\\delta - O H_\\delta\\|^2$$\n",
    "\n",
    "where uppercase letters denote the Fourier transforms of their lowercase counterparts.\n",
    "\n",
    "The error function can be extended to more defocus values.\n",
    "\n",
    "Assuming the gradient of $E$ at the minimum is null, $O$ can be eliminated from the minimization:\n",
    "\n",
    "$$E = \\|I_0\\|^2 + \\|I_\\delta\\|^2 - \\sum_u \\frac{I_0(u) H_0^*(u) + I_\\delta(u) H_\\delta^*(u)}{|I_0(u)|^2 + |I_\\delta(u)|^2 + \\gamma}$$\n",
    "\n",
    "and the sum can be maximized, where the only unknowns are the $a_i$'s."
   ]
  },
  {
   "cell_type": "markdown",
   "metadata": {},
   "source": [
    "## Computation\n",
    "\n",
    "Given:\n",
    "* $L$ the number of wavelengths ($L \\in [?]$);\n",
    "* $M$ the number of Zernike polynomials ($L \\in [20, 40]$);\n",
    "* $N$ the number of input images (star thumbnails, $N \\in [100, 1000]$);\n",
    "\n",
    "the error is computed $L \\times (M + 1) \\times N$ times in order to build the Jacobian matrix (one-step derivatives).\n",
    "\n",
    "In terms of Fourier transform, this means:\n",
    "* One direct transform to estimate $h$ from $P$ and the $a_i$'s;\n",
    "* One direct transform to estimate $H$ from $h$."
   ]
  }
 ],
 "metadata": {
  "language_info": {
   "name": "python"
  },
  "orig_nbformat": 4
 },
 "nbformat": 4,
 "nbformat_minor": 2
}
